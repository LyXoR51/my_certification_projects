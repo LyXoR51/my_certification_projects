{
 "cells": [
  {
   "cell_type": "markdown",
   "id": "09368b8e",
   "metadata": {},
   "source": [
    "# 1) import Library & files"
   ]
  },
  {
   "cell_type": "code",
   "execution_count": null,
   "id": "daf1b123",
   "metadata": {},
   "outputs": [],
   "source": [
    "#Library\n",
    "import pandas as pd\n",
    "import numpy as np\n",
    "import plotly.express as px\n",
    "from plotly.subplots import make_subplots\n",
    "import plotly.graph_objects as go\n",
    "\n",
    "#Display all columns\n",
    "pd.options.display.max_columns = None"
   ]
  },
  {
   "cell_type": "code",
   "execution_count": null,
   "id": "e348fa84",
   "metadata": {},
   "outputs": [],
   "source": [
    "#files\n",
    "data = pd.read_csv(\"https://full-stack-assets.s3.eu-west-3.amazonaws.com/M03-EDA/Speed+Dating+Data.csv\", encoding='unicode_escape')\n",
    "data.head()"
   ]
  },
  {
   "cell_type": "markdown",
   "id": "80f38c62",
   "metadata": {},
   "source": [
    "# 2) functions"
   ]
  },
  {
   "cell_type": "code",
   "execution_count": null,
   "id": "e89a0b86",
   "metadata": {},
   "outputs": [],
   "source": [
    "def checking_missing_value(df):\n",
    "    if df.isnull().values.any() == True:\n",
    "        print(f\"Missing data !\")\n",
    "        for i in range(len(df.columns)):\n",
    "            if df.iloc[:,i].isnull().any()== True:\n",
    "                print(f\"{df.columns[i]} : {round(((len(df)-(df.iloc[:,i].isnull().sum()))/len(df))*100,1)} % data available at index {i}\")\n",
    "            else:\n",
    "                continue\n",
    "    else:\n",
    "        print(f\"No missing data !\")\n"
   ]
  },
  {
   "cell_type": "markdown",
   "id": "05cf9b07",
   "metadata": {},
   "source": [
    "# 3) Basic statistics"
   ]
  },
  {
   "cell_type": "code",
   "execution_count": null,
   "id": "36f69397",
   "metadata": {},
   "outputs": [],
   "source": [
    "# Basic stats\n",
    "print(f\"Number of rows : {data.shape[0]}\")\n",
    "print(f\"Number of columns : {data.shape[1]}\")\n",
    "\n",
    "print(\"Basics statistics: \")\n",
    "display(data.describe(include='all'))\n",
    "\n",
    "print(\"Percentage of missing values: \")\n",
    "print(data.isna() .sum() / data.shape[0])"
   ]
  },
  {
   "cell_type": "code",
   "execution_count": null,
   "id": "a53185de",
   "metadata": {},
   "outputs": [],
   "source": [
    "#Count the number of unique identifiers\n",
    "unique_identifiers = data[\"iid\"].nunique()\n",
    "print(f\"Number of unique identifiers: {unique_identifiers}\")\n",
    "\n",
    "#Calculate the gender ratio\n",
    "gender_ratio = data.drop_duplicates(subset=['iid'])['gender'].value_counts()\n",
    "print(\"Gender ratio:\")\n",
    "print(gender_ratio)\n"
   ]
  },
  {
   "cell_type": "markdown",
   "id": "4b7cbf57",
   "metadata": {},
   "source": [
    "# 4) Questions"
   ]
  },
  {
   "cell_type": "code",
   "execution_count": null,
   "id": "c7a71110",
   "metadata": {},
   "outputs": [],
   "source": [
    "#keeping only one answer by idd\n",
    "df_unique_idd = data.drop_duplicates(subset=['iid'])\n",
    "\n",
    "#keeping only the match\n",
    "df_match = data[data['match'] == 1]\n",
    "\n",
    "#keeping only the match and one row by iid\n",
    "df_match_unique_idd = df_match.drop_duplicates(subset=['iid']) \n",
    "\n",
    "#for filtering by series\n",
    "list_attribute = ['attr','sinc','intel','fun','amb','shar']"
   ]
  },
  {
   "cell_type": "markdown",
   "id": "76ec3d49",
   "metadata": {},
   "source": [
    "## 4.1) What are the least desirable attributes in a male partner? Does this differ for female partners?"
   ]
  },
  {
   "cell_type": "code",
   "execution_count": null,
   "id": "ed36986b",
   "metadata": {},
   "outputs": [],
   "source": [
    "#serie to analyse\n",
    "serie = \"1_1\"\n",
    "\n",
    "#selecting data\n",
    "mask_attribute = [ x + serie for x in list_attribute] + ['gender']\n",
    "df = df_unique_idd[mask_attribute]\n",
    "\n",
    "#checking data\n",
    "checking_missing_value(df)\n",
    "\n",
    "#analyse\n",
    "df_by_gender = df.groupby('gender').mean().reset_index().T\n",
    "df_by_gender.drop(['gender'], axis=0,inplace=True)\n",
    "df_by_gender.columns = ['female_answer', 'male_answer']\n",
    "df_by_gender"
   ]
  },
  {
   "cell_type": "markdown",
   "id": "769271c1",
   "metadata": {},
   "source": [
    "Using the serie 1_1, the survey before the first date :\n",
    "- for male, the least desirable attribute in a female partner is the shared interets & hobbies\n",
    "- for female partners, this is the ambitious"
   ]
  },
  {
   "cell_type": "code",
   "execution_count": null,
   "id": "c0c7749e",
   "metadata": {},
   "outputs": [],
   "source": [
    "# Visualization\n",
    "fig = make_subplots(rows=1, cols=2, subplot_titles=['Female Answer', 'Male Answer'])\n",
    "\n",
    "# Female answer\n",
    "sorted_female = df_by_gender.sort_values(by='female_answer')\n",
    "fig.add_trace(\n",
    "    go.Bar(x=sorted_female.index, y=sorted_female['female_answer'], name='Female Answer'),\n",
    "    row=1, col=1,\n",
    ")\n",
    "\n",
    "# Male answer\n",
    "sorted_male = df_by_gender.sort_values(by='male_answer')\n",
    "fig.add_trace(\n",
    "    go.Bar(x=sorted_male.index, y=sorted_male['male_answer'], name='Male Answer'),\n",
    "    row=1, col=2,\n",
    ")\n",
    "\n",
    "fig.update_layout(height=600, width=1200, title_text='What are the least desirable attributes in a male partner? Does this differ for female partners?')\n",
    "\n",
    "fig.show()"
   ]
  },
  {
   "cell_type": "markdown",
   "id": "8b7c856f",
   "metadata": {},
   "source": [
    "## 4.2) How important do people think attractiveness is in potential mate selection vs. its real impact?"
   ]
  },
  {
   "cell_type": "code",
   "execution_count": null,
   "id": "404b0839",
   "metadata": {},
   "outputs": [],
   "source": [
    "df = pd.DataFrame(index=list_attribute)\n",
    "\n",
    "#serie_4_1:\n",
    "serie = '4_1'\n",
    "mask_attribute = [ x + serie for x in list_attribute]\n",
    "checking_missing_value(df_match_unique_idd[mask_attribute])\n",
    "df[\"people_think\"] = df_match_unique_idd[mask_attribute].dropna().mean().values\n",
    "\n",
    "#Scorecard given:\n",
    "serie = ''\n",
    "mask_attribute = [ x + serie for x in list_attribute]\n",
    "checking_missing_value(df_match[mask_attribute])\n",
    "df[\"scorecard\"] = df_match[mask_attribute].dropna().mean().values\n",
    "\n",
    "df"
   ]
  },
  {
   "cell_type": "markdown",
   "id": "68509620",
   "metadata": {},
   "source": [
    "==> People who have match thinks that attractiveness is the more important attribute for a mate selection, it's true for male and female"
   ]
  },
  {
   "cell_type": "code",
   "execution_count": null,
   "id": "284f79e6",
   "metadata": {},
   "outputs": [],
   "source": [
    "# Visualization\n",
    "fig = make_subplots(rows=1, cols=2, subplot_titles=[\"people_think\", 'scorecard'])\n",
    "\n",
    "# people_think\n",
    "df_sorted = df.sort_values(by='people_think', ascending=False)\n",
    "fig.add_trace(\n",
    "    go.Bar(x=df_sorted.index, y=df_sorted[\"people_think\"], name=\"people_think\",\n",
    "    marker_color='blue'),\n",
    "    row=1, col=1,\n",
    ")\n",
    "\n",
    "# scorecard\n",
    "df_sorted = df.sort_values(by='scorecard', ascending=False)\n",
    "fig.add_trace(\n",
    "    go.Bar(x=df_sorted.index, y=df_sorted['scorecard'], name='scorecard',\n",
    "    marker_color='orange'),\n",
    "    row=1, col=2,\n",
    ")\n",
    "\n",
    "fig.update_layout(height=600, width=1200, title_text='How important do people think attractiveness is in potential mate selection vs. its real impact?')\n",
    "\n",
    "fig.show()"
   ]
  },
  {
   "cell_type": "markdown",
   "id": "7832b263",
   "metadata": {},
   "source": [
    "---> based on the scorecard of people who have match, this is the intellegince attribute tge more important. All attributes are more balanced."
   ]
  },
  {
   "cell_type": "markdown",
   "id": "3036d3a1",
   "metadata": {},
   "source": [
    "## 4.3) Are shared interests more important than a shared racial background?"
   ]
  },
  {
   "cell_type": "code",
   "execution_count": null,
   "id": "ec419ace",
   "metadata": {},
   "outputs": [],
   "source": [
    "#selecting data\n",
    "\n",
    "mask_attribute = ['imprace', 'shar','samerace']\n",
    "df = df_match[mask_attribute]  \n",
    "df.mean()"
   ]
  },
  {
   "cell_type": "code",
   "execution_count": null,
   "id": "edeb1ddc",
   "metadata": {},
   "outputs": [],
   "source": [
    "#selecting data\n",
    "mask_attribute = ['imprace', 'shar','samerace']\n",
    "df = df_match_unique_idd[mask_attribute]  \n",
    "df.mean()"
   ]
  },
  {
   "cell_type": "markdown",
   "id": "094b871f",
   "metadata": {},
   "source": [
    "---> based on the answer of matching people in the scorecard and the signup survey, the "
   ]
  },
  {
   "cell_type": "markdown",
   "id": "fe7dd1d2",
   "metadata": {},
   "source": [
    "## 4.4) Can people accurately predict their own perceived value in the dating market?"
   ]
  },
  {
   "cell_type": "code",
   "execution_count": null,
   "id": "063f0254",
   "metadata": {},
   "outputs": [],
   "source": [
    "# Data preparation\n",
    "list_attribute = ['attr', 'sinc', 'intel', 'fun', 'amb']\n",
    "df = pd.DataFrame(index=list_attribute)\n",
    "\n",
    "series = ['5_1', '_o']\n",
    "\n",
    "# Assuming 'data' is your original DataFrame and 'checking_missing_value' is a defined function\n",
    "for serie in series:\n",
    "    mask_attribute = [x + serie for x in list_attribute] + ['iid']\n",
    "    checking_missing_value(data[mask_attribute])\n",
    "    df[str(serie)] = (data[mask_attribute].dropna().groupby('iid').mean()).mean().values\n",
    "df['ratio_pred/recieved'] = df['5_1'] / df['_o']\n",
    "\n",
    "display(df)\n",
    "\n",
    "# Calculate Mean Absolute Percentage Error (MAPE)\n",
    "mape = round(np.mean(np.abs((y_true - y_pred) / y_true)) * 100, 2)\n",
    "\n",
    "print(f\"MAPE: {mape}%\")"
   ]
  },
  {
   "cell_type": "code",
   "execution_count": null,
   "id": "d4b62043",
   "metadata": {},
   "outputs": [],
   "source": [
    "# Create the figure\n",
    "fig = go.Figure()\n",
    "\n",
    "# Add bars for predicted values\n",
    "fig.add_trace(go.Bar(\n",
    "    x=df.index,\n",
    "    y=df['5_1'],\n",
    "    name='Self Predicted score',\n",
    "    marker_color='blue'\n",
    "))\n",
    "\n",
    "# Add bars for received values\n",
    "fig.add_trace(go.Bar(\n",
    "    x=df.index,\n",
    "    y=df['_o'],\n",
    "    name='Received score',\n",
    "    marker_color='orange'\n",
    "))\n",
    "\n",
    "# Update layout\n",
    "fig.update_layout(\n",
    "    title='Can people accurately predict their own perceived value in the dating market?',\n",
    "    xaxis_title='Attributes',\n",
    "    yaxis_title='Score',\n",
    "    barmode='group'\n",
    ")\n",
    "\n",
    "# Show the figure\n",
    "fig.show()"
   ]
  },
  {
   "cell_type": "markdown",
   "id": "cce60526",
   "metadata": {},
   "source": [
    "It's not so bad, people surestimate their value by 12 %, but it's constant for all attributes. "
   ]
  },
  {
   "cell_type": "markdown",
   "id": "67e42e62",
   "metadata": {},
   "source": [
    "## 4.5) In terms of getting a second date, is it better to be someone's first speed date of the night or their last?"
   ]
  },
  {
   "cell_type": "code",
   "execution_count": null,
   "id": "f56dccef",
   "metadata": {},
   "outputs": [],
   "source": [
    "mask_attribute = ['order', 'dec_o', 'dec' ]\n",
    "# the order of speed datind in night\n",
    "# dec_o : second date recieved\n",
    "# dec : second date given\n",
    "\n",
    "df = data[mask_attribute]\n",
    "df['total'] = 1\n",
    "df_by_dec = df.groupby('order').sum()\n",
    "df_by_dec['ratio_recieved'] = df_by_dec['dec_o'] / df_by_dec['total']\n",
    "df_by_dec['ratio_given'] = df_by_dec['dec'] / df_by_dec['total']\n",
    "df_by_dec"
   ]
  },
  {
   "cell_type": "code",
   "execution_count": null,
   "id": "d6c266a1",
   "metadata": {},
   "outputs": [],
   "source": [
    "fig = px.line(df_by_dec, x=df_by_dec.index, y=[\"ratio_recieved\", \"ratio_given\"], range_y=[0,0.6], title=\"In terms of getting a second date, is it better to be someone's first speed date of the night or their last?\")\n",
    "fig.show()"
   ]
  },
  {
   "cell_type": "markdown",
   "id": "aa74ba58",
   "metadata": {},
   "source": [
    "--> The first speed date give the better result, but it's well balanced during all the night long."
   ]
  }
 ],
 "metadata": {
  "kernelspec": {
   "display_name": "DataScience",
   "language": "python",
   "name": "python3"
  },
  "language_info": {
   "codemirror_mode": {
    "name": "ipython",
    "version": 3
   },
   "file_extension": ".py",
   "mimetype": "text/x-python",
   "name": "python",
   "nbconvert_exporter": "python",
   "pygments_lexer": "ipython3",
   "version": "3.12.9"
  }
 },
 "nbformat": 4,
 "nbformat_minor": 5
}
