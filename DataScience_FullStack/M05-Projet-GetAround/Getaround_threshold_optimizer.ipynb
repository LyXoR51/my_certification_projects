{
 "cells": [
  {
   "cell_type": "markdown",
   "id": "e1483923",
   "metadata": {},
   "source": [
    "## 1) Import libraries\n",
    "---"
   ]
  },
  {
   "cell_type": "code",
   "execution_count": 1,
   "id": "188825ab",
   "metadata": {},
   "outputs": [],
   "source": [
    "import pandas as pd\n",
    "import plotly.express as px\n",
    "\n",
    "#Display all columns\n",
    "pd.options.display.max_columns = None"
   ]
  },
  {
   "cell_type": "markdown",
   "id": "6eba8960",
   "metadata": {},
   "source": [
    "## 2) Import files\n",
    "---"
   ]
  },
  {
   "cell_type": "code",
   "execution_count": 2,
   "id": "bace81ec",
   "metadata": {},
   "outputs": [
    {
     "data": {
      "text/html": [
       "<div>\n",
       "<style scoped>\n",
       "    .dataframe tbody tr th:only-of-type {\n",
       "        vertical-align: middle;\n",
       "    }\n",
       "\n",
       "    .dataframe tbody tr th {\n",
       "        vertical-align: top;\n",
       "    }\n",
       "\n",
       "    .dataframe thead th {\n",
       "        text-align: right;\n",
       "    }\n",
       "</style>\n",
       "<table border=\"1\" class=\"dataframe\">\n",
       "  <thead>\n",
       "    <tr style=\"text-align: right;\">\n",
       "      <th></th>\n",
       "      <th>rental_id</th>\n",
       "      <th>car_id</th>\n",
       "      <th>checkin_type</th>\n",
       "      <th>state</th>\n",
       "      <th>delay_at_checkout_in_minutes</th>\n",
       "      <th>previous_ended_rental_id</th>\n",
       "      <th>time_delta_with_previous_rental_in_minutes</th>\n",
       "    </tr>\n",
       "  </thead>\n",
       "  <tbody>\n",
       "    <tr>\n",
       "      <th>0</th>\n",
       "      <td>505000</td>\n",
       "      <td>363965</td>\n",
       "      <td>mobile</td>\n",
       "      <td>canceled</td>\n",
       "      <td>NaN</td>\n",
       "      <td>NaN</td>\n",
       "      <td>NaN</td>\n",
       "    </tr>\n",
       "    <tr>\n",
       "      <th>1</th>\n",
       "      <td>507750</td>\n",
       "      <td>269550</td>\n",
       "      <td>mobile</td>\n",
       "      <td>ended</td>\n",
       "      <td>-81.0</td>\n",
       "      <td>NaN</td>\n",
       "      <td>NaN</td>\n",
       "    </tr>\n",
       "    <tr>\n",
       "      <th>2</th>\n",
       "      <td>508131</td>\n",
       "      <td>359049</td>\n",
       "      <td>connect</td>\n",
       "      <td>ended</td>\n",
       "      <td>70.0</td>\n",
       "      <td>NaN</td>\n",
       "      <td>NaN</td>\n",
       "    </tr>\n",
       "    <tr>\n",
       "      <th>3</th>\n",
       "      <td>508865</td>\n",
       "      <td>299063</td>\n",
       "      <td>connect</td>\n",
       "      <td>canceled</td>\n",
       "      <td>NaN</td>\n",
       "      <td>NaN</td>\n",
       "      <td>NaN</td>\n",
       "    </tr>\n",
       "    <tr>\n",
       "      <th>4</th>\n",
       "      <td>511440</td>\n",
       "      <td>313932</td>\n",
       "      <td>mobile</td>\n",
       "      <td>ended</td>\n",
       "      <td>NaN</td>\n",
       "      <td>NaN</td>\n",
       "      <td>NaN</td>\n",
       "    </tr>\n",
       "  </tbody>\n",
       "</table>\n",
       "</div>"
      ],
      "text/plain": [
       "   rental_id  car_id checkin_type     state  delay_at_checkout_in_minutes  \\\n",
       "0     505000  363965       mobile  canceled                           NaN   \n",
       "1     507750  269550       mobile     ended                         -81.0   \n",
       "2     508131  359049      connect     ended                          70.0   \n",
       "3     508865  299063      connect  canceled                           NaN   \n",
       "4     511440  313932       mobile     ended                           NaN   \n",
       "\n",
       "   previous_ended_rental_id  time_delta_with_previous_rental_in_minutes  \n",
       "0                       NaN                                         NaN  \n",
       "1                       NaN                                         NaN  \n",
       "2                       NaN                                         NaN  \n",
       "3                       NaN                                         NaN  \n",
       "4                       NaN                                         NaN  "
      ]
     },
     "execution_count": 2,
     "metadata": {},
     "output_type": "execute_result"
    }
   ],
   "source": [
    "data = pd.read_excel('../data/Get_Around/get_around_delay_analysis.xlsx')\n",
    "data.head()"
   ]
  }
 ],
 "metadata": {
  "kernelspec": {
   "display_name": "DataScience",
   "language": "python",
   "name": "python3"
  },
  "language_info": {
   "codemirror_mode": {
    "name": "ipython",
    "version": 3
   },
   "file_extension": ".py",
   "mimetype": "text/x-python",
   "name": "python",
   "nbconvert_exporter": "python",
   "pygments_lexer": "ipython3",
   "version": "3.12.9"
  }
 },
 "nbformat": 4,
 "nbformat_minor": 5
}
